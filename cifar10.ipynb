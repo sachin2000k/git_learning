{
  "nbformat": 4,
  "nbformat_minor": 0,
  "metadata": {
    "colab": {
      "name": "Untitled3.ipynb",
      "provenance": [],
      "collapsed_sections": [],
      "include_colab_link": true
    },
    "kernelspec": {
      "name": "python3",
      "display_name": "Python 3"
    }
  },
  "cells": [
    {
      "cell_type": "markdown",
      "metadata": {
        "id": "view-in-github",
        "colab_type": "text"
      },
      "source": [
        "<a href=\"https://colab.research.google.com/github/sachin2000k/git_learning/blob/new_branch/cifar10.ipynb\" target=\"_parent\"><img src=\"https://colab.research.google.com/assets/colab-badge.svg\" alt=\"Open In Colab\"/></a>"
      ]
    },
    {
      "cell_type": "code",
      "metadata": {
        "id": "-uxQzwJSEW49",
        "colab_type": "code",
        "colab": {}
      },
      "source": [
        "import sys\n",
        "import os"
      ],
      "execution_count": 0,
      "outputs": []
    },
    {
      "cell_type": "code",
      "metadata": {
        "id": "tSqIIaMNKB4s",
        "colab_type": "code",
        "outputId": "c653dedb-adc3-45cd-fab7-4d38f170260a",
        "colab": {
          "base_uri": "https://localhost:8080/",
          "height": 113
        }
      },
      "source": [
        "import tensorflow as tf\n",
        "import keras\n",
        "from keras import backend as K\n",
        "%matplotlib inline\n",
        "import matplotlib.pyplot as plt\n",
        "print(tf.__version__)\n",
        "print(keras.__version__)"
      ],
      "execution_count": 2,
      "outputs": [
        {
          "output_type": "display_data",
          "data": {
            "text/html": [
              "<p style=\"color: red;\">\n",
              "The default version of TensorFlow in Colab will soon switch to TensorFlow 2.x.<br>\n",
              "We recommend you <a href=\"https://www.tensorflow.org/guide/migrate\" target=\"_blank\">upgrade</a> now \n",
              "or ensure your notebook will continue to use TensorFlow 1.x via the <code>%tensorflow_version 1.x</code> magic:\n",
              "<a href=\"https://colab.research.google.com/notebooks/tensorflow_version.ipynb\" target=\"_blank\">more info</a>.</p>\n"
            ],
            "text/plain": [
              "<IPython.core.display.HTML object>"
            ]
          },
          "metadata": {
            "tags": []
          }
        },
        {
          "output_type": "stream",
          "text": [
            "1.15.0\n",
            "2.2.5\n"
          ],
          "name": "stdout"
        },
        {
          "output_type": "stream",
          "text": [
            "Using TensorFlow backend.\n"
          ],
          "name": "stderr"
        }
      ]
    },
    {
      "cell_type": "code",
      "metadata": {
        "id": "q1563XtdKzym",
        "colab_type": "code",
        "colab": {}
      },
      "source": [
        "from keras.datasets import cifar10"
      ],
      "execution_count": 0,
      "outputs": []
    },
    {
      "cell_type": "code",
      "metadata": {
        "id": "T6VvtykLLCki",
        "colab_type": "code",
        "colab": {
          "base_uri": "https://localhost:8080/",
          "height": 50
        },
        "outputId": "24a97db1-7e99-4e4a-f3fb-0c8a23267a65"
      },
      "source": [
        "(x_train, y_train), (x_test, y_test) = cifar10.load_data()"
      ],
      "execution_count": 4,
      "outputs": [
        {
          "output_type": "stream",
          "text": [
            "Downloading data from https://www.cs.toronto.edu/~kriz/cifar-10-python.tar.gz\n",
            "170500096/170498071 [==============================] - 2s 0us/step\n"
          ],
          "name": "stdout"
        }
      ]
    },
    {
      "cell_type": "code",
      "metadata": {
        "id": "gjEkdmH0LQ9L",
        "colab_type": "code",
        "outputId": "6fe3cdf0-fe7e-43d0-e2d7-d575c608f029",
        "colab": {
          "base_uri": "https://localhost:8080/",
          "height": 50
        }
      },
      "source": [
        "print(\"Train samples:\", x_train.shape, y_train.shape)\n",
        "print(\"Test sample: \", x_test.shape, y_test.shape)"
      ],
      "execution_count": 5,
      "outputs": [
        {
          "output_type": "stream",
          "text": [
            "Train samples: (50000, 32, 32, 3) (50000, 1)\n",
            "Test sample:  (10000, 32, 32, 3) (10000, 1)\n"
          ],
          "name": "stdout"
        }
      ]
    },
    {
      "cell_type": "code",
      "metadata": {
        "id": "fvzS6-q7LrzB",
        "colab_type": "code",
        "colab": {}
      },
      "source": [
        "No_Classes = 10\n",
        "cifar10_classes = [\"airplane\", \"automobile\", \"bird\", \"cat\", \n",
        "                   \"deer\",\"dog\", \"frog\", \"horse\", \"ship\", \"truck\" ]"
      ],
      "execution_count": 0,
      "outputs": []
    },
    {
      "cell_type": "code",
      "metadata": {
        "id": "WsTNRDMLOKQL",
        "colab_type": "code",
        "colab": {}
      },
      "source": [
        "import numpy as np"
      ],
      "execution_count": 0,
      "outputs": []
    },
    {
      "cell_type": "code",
      "metadata": {
        "id": "fr6km_nXL12i",
        "colab_type": "code",
        "outputId": "8ee176de-3d97-48c5-f27d-91091a4701e8",
        "colab": {
          "base_uri": "https://localhost:8080/",
          "height": 447
        }
      },
      "source": [
        "cols = 8\n",
        "rows = 2\n",
        "fig = plt.figure(figsize = (4*cols-1, 4*rows-1))\n",
        "for i in range(cols):\n",
        "  for j in range(rows):\n",
        "    random_index = np.random.randint(0,len(y_train))\n",
        "    ax = fig.add_subplot(rows,cols,i*rows+j+1)\n",
        "    ax.grid('off')\n",
        "    ax.axis('off')\n",
        "    ax.imshow(x_train[random_index, :])\n",
        "    ax.set_title(cifar10_classes[y_train[random_index,0]])\n",
        "plt.show()"
      ],
      "execution_count": 8,
      "outputs": [
        {
          "output_type": "display_data",
          "data": {
            "image/png": "[encoded data removed]",
            "text/plain": [
              "<Figure size 2232x504 with 16 Axes>"
            ]
          },
          "metadata": {
            "tags": []
          }
        }
      ]
    },
    {
      "cell_type": "markdown",
      "metadata": {
        "id": "XN5gxub-Oe77",
        "colab_type": "text"
      },
      "source": [
        "## step 1\n",
        "normalize inputs"
      ]
    },
    {
      "cell_type": "code",
      "metadata": {
        "id": "UolBqhU3ORLR",
        "colab_type": "code",
        "colab": {}
      },
      "source": [
        "x_train2 = x_train/255 - 0.5\n",
        "x_test2 = x_test/255 - 0.5\n",
        "\n",
        "y_train2 = keras.utils.to_categorical(y_train,num_classes=10)\n",
        "y_test2 = keras.utils.to_categorical(y_test,num_classes=10)"
      ],
      "execution_count": 0,
      "outputs": []
    },
    {
      "cell_type": "code",
      "metadata": {
        "id": "iiqyjjp2PSLh",
        "colab_type": "code",
        "outputId": "03454375-2ae4-4a5a-a76e-e1f05f3d4861",
        "colab": {
          "base_uri": "https://localhost:8080/",
          "height": 84
        }
      },
      "source": [
        "y_train[1:5]"
      ],
      "execution_count": 10,
      "outputs": [
        {
          "output_type": "execute_result",
          "data": {
            "text/plain": [
              "array([[9],\n",
              "       [9],\n",
              "       [4],\n",
              "       [1]], dtype=uint8)"
            ]
          },
          "metadata": {
            "tags": []
          },
          "execution_count": 10
        }
      ]
    },
    {
      "cell_type": "code",
      "metadata": {
        "id": "Hldgqy3NPzCF",
        "colab_type": "code",
        "outputId": "ff758c85-b590-474b-80a1-84c74611453c",
        "colab": {
          "base_uri": "https://localhost:8080/",
          "height": 84
        }
      },
      "source": [
        "y_train2[1:5]"
      ],
      "execution_count": 11,
      "outputs": [
        {
          "output_type": "execute_result",
          "data": {
            "text/plain": [
              "array([[0., 0., 0., 0., 0., 0., 0., 0., 0., 1.],\n",
              "       [0., 0., 0., 0., 0., 0., 0., 0., 0., 1.],\n",
              "       [0., 0., 0., 0., 1., 0., 0., 0., 0., 0.],\n",
              "       [0., 1., 0., 0., 0., 0., 0., 0., 0., 0.]], dtype=float32)"
            ]
          },
          "metadata": {
            "tags": []
          },
          "execution_count": 11
        }
      ]
    },
    {
      "cell_type": "markdown",
      "metadata": {
        "id": "6pmYd7N7QTYZ",
        "colab_type": "text"
      },
      "source": [
        "#CNN Architecture"
      ]
    },
    {
      "cell_type": "code",
      "metadata": {
        "id": "sIAgeOUFP4uY",
        "colab_type": "code",
        "colab": {}
      },
      "source": [
        "from keras.models import Sequential\n",
        "from keras.layers import Conv2D, MaxPooling2D, Flatten, Dense, Activation, Dropout\n",
        "from keras.layers.advanced_activations import LeakyReLU"
      ],
      "execution_count": 0,
      "outputs": []
    },
    {
      "cell_type": "markdown",
      "metadata": {
        "id": "5am7_mPLaceO",
        "colab_type": "text"
      },
      "source": [
        "input  = (none, 32,32,3)\n",
        "predicts = (none, 10)\n",
        "\n",
        "Simple feed forward network:\n",
        "model = Sequential()\n",
        "model.add(Conv2D(..., input_shape=(32,32,3))\n",
        "... other layers\n",
        "\n",
        "model.add(Dense(No_Classes))\n",
        "model.activation(\"softmax\")\n"
      ]
    },
    {
      "cell_type": "code",
      "metadata": {
        "id": "pWvIduOhQ_ji",
        "colab_type": "code",
        "colab": {}
      },
      "source": [
        "def make_model():\n",
        "\n",
        "  model = Sequential()\n",
        "  input_shape = (32,32,3)\n",
        "  #layer 1\n",
        "  model.add(Conv2D(kernel_size=(3,3), filters=16, padding = \"same\", input_shape = (32,32,3)))\n",
        "  model.add(LeakyReLU(0.1))\n",
        "\n",
        "  #layer 2\n",
        "  model.add(Conv2D(kernel_size=(3,3), filters = 32, padding=\"same\"))\n",
        "  model.add(LeakyReLU(0.1))\n",
        "\n",
        "  #pooling 1\n",
        "  model.add(MaxPooling2D(pool_size=(2,2)))\n",
        "  model.add(Dropout(0.25))\n",
        "\n",
        "  #layer 3\n",
        "  model.add(Conv2D(kernel_size=(3,3), filters = 32, padding = \"same\"))\n",
        "  model.add(LeakyReLU(0.1))\n",
        "\n",
        "  #layer 4\n",
        "  model.add(Conv2D(kernel_size = (3,3),filters = 64, padding = \"same\"))\n",
        "  model.add(LeakyReLU(0.1))\n",
        "\n",
        "  #pooling 2\n",
        "  model.add(MaxPooling2D(pool_size=(2,2)))\n",
        "  model.add(LeakyReLU(0.25))\n",
        "\n",
        "  model.add(Flatten())\n",
        "  model.add(Dense(256))\n",
        "  model.add(LeakyReLU(0.1))\n",
        "  model.add(Dropout(0.5))\n",
        "\n",
        "  model.add(Dense(No_Classes))\n",
        "  model.add(Activation(\"softmax\"))\n",
        "\n",
        "  return model"
      ],
      "execution_count": 0,
      "outputs": []
    },
    {
      "cell_type": "code",
      "metadata": {
        "id": "bBf3HbwyjDLK",
        "colab_type": "code",
        "outputId": "7d294533-e018-4087-b0ef-0905f37fc464",
        "colab": {
          "base_uri": "https://localhost:8080/",
          "height": 994
        }
      },
      "source": [
        "#s = reset_tf_session()\n",
        "model = make_model()\n",
        "model.summary()"
      ],
      "execution_count": 14,
      "outputs": [
        {
          "output_type": "stream",
          "text": [
            "WARNING:tensorflow:From /usr/local/lib/python3.6/dist-packages/keras/backend/tensorflow_backend.py:66: The name tf.get_default_graph is deprecated. Please use tf.compat.v1.get_default_graph instead.\n",
            "\n",
            "WARNING:tensorflow:From /usr/local/lib/python3.6/dist-packages/keras/backend/tensorflow_backend.py:541: The name tf.placeholder is deprecated. Please use tf.compat.v1.placeholder instead.\n",
            "\n",
            "WARNING:tensorflow:From /usr/local/lib/python3.6/dist-packages/keras/backend/tensorflow_backend.py:4432: The name tf.random_uniform is deprecated. Please use tf.random.uniform instead.\n",
            "\n",
            "WARNING:tensorflow:From /usr/local/lib/python3.6/dist-packages/keras/backend/tensorflow_backend.py:4267: The name tf.nn.max_pool is deprecated. Please use tf.nn.max_pool2d instead.\n",
            "\n",
            "WARNING:tensorflow:From /usr/local/lib/python3.6/dist-packages/keras/backend/tensorflow_backend.py:148: The name tf.placeholder_with_default is deprecated. Please use tf.compat.v1.placeholder_with_default instead.\n",
            "\n",
            "WARNING:tensorflow:From /usr/local/lib/python3.6/dist-packages/keras/backend/tensorflow_backend.py:3733: calling dropout (from tensorflow.python.ops.nn_ops) with keep_prob is deprecated and will be removed in a future version.\n",
            "Instructions for updating:\n",
            "Please use `rate` instead of `keep_prob`. Rate should be set to `rate = 1 - keep_prob`.\n",
            "Model: \"sequential_1\"\n",
            "_________________________________________________________________\n",
            "Layer (type)                 Output Shape              Param #   \n",
            "=================================================================\n",
            "conv2d_1 (Conv2D)            (None, 32, 32, 16)        448       \n",
            "_________________________________________________________________\n",
            "leaky_re_lu_1 (LeakyReLU)    (None, 32, 32, 16)        0         \n",
            "_________________________________________________________________\n",
            "conv2d_2 (Conv2D)            (None, 32, 32, 32)        4640      \n",
            "_________________________________________________________________\n",
            "leaky_re_lu_2 (LeakyReLU)    (None, 32, 32, 32)        0         \n",
            "_________________________________________________________________\n",
            "max_pooling2d_1 (MaxPooling2 (None, 16, 16, 32)        0         \n",
            "_________________________________________________________________\n",
            "dropout_1 (Dropout)          (None, 16, 16, 32)        0         \n",
            "_________________________________________________________________\n",
            "conv2d_3 (Conv2D)            (None, 16, 16, 32)        9248      \n",
            "_________________________________________________________________\n",
            "leaky_re_lu_3 (LeakyReLU)    (None, 16, 16, 32)        0         \n",
            "_________________________________________________________________\n",
            "conv2d_4 (Conv2D)            (None, 16, 16, 64)        18496     \n",
            "_________________________________________________________________\n",
            "leaky_re_lu_4 (LeakyReLU)    (None, 16, 16, 64)        0         \n",
            "_________________________________________________________________\n",
            "max_pooling2d_2 (MaxPooling2 (None, 8, 8, 64)          0         \n",
            "_________________________________________________________________\n",
            "leaky_re_lu_5 (LeakyReLU)    (None, 8, 8, 64)          0         \n",
            "_________________________________________________________________\n",
            "flatten_1 (Flatten)          (None, 4096)              0         \n",
            "_________________________________________________________________\n",
            "dense_1 (Dense)              (None, 256)               1048832   \n",
            "_________________________________________________________________\n",
            "leaky_re_lu_6 (LeakyReLU)    (None, 256)               0         \n",
            "_________________________________________________________________\n",
            "dropout_2 (Dropout)          (None, 256)               0         \n",
            "_________________________________________________________________\n",
            "dense_2 (Dense)              (None, 10)                2570      \n",
            "_________________________________________________________________\n",
            "activation_1 (Activation)    (None, 10)                0         \n",
            "=================================================================\n",
            "Total params: 1,084,234\n",
            "Trainable params: 1,084,234\n",
            "Non-trainable params: 0\n",
            "_________________________________________________________________\n"
          ],
          "name": "stdout"
        }
      ]
    },
    {
      "cell_type": "code",
      "metadata": {
        "id": "U_execgpkPRN",
        "colab_type": "code",
        "colab": {}
      },
      "source": [
        ""
      ],
      "execution_count": 0,
      "outputs": []
    },
    {
      "cell_type": "markdown",
      "metadata": {
        "id": "EuPIF3tdmxMO",
        "colab_type": "text"
      },
      "source": [
        "#TRAING THE MODEL"
      ]
    },
    {
      "cell_type": "code",
      "metadata": {
        "id": "Pg16a55im5WQ",
        "colab_type": "code",
        "colab": {
          "base_uri": "https://localhost:8080/",
          "height": 84
        },
        "outputId": "ba48ae8f-2d1a-4cb7-b1d0-4ef069e44cad"
      },
      "source": [
        "Initial_LR = 5e-3\n",
        "Batch_Size = 32\n",
        "Epochs = 10\n",
        "\n",
        "model = make_model()\n",
        "model.compile(\n",
        "    loss= 'categorical_crossentropy',\n",
        "    optimizer = keras.optimizers.adamax(lr = Initial_LR),\n",
        "    metrics = ['accuracy']\n",
        ")\n",
        "\n",
        "def lr_scheduler(epoch):\n",
        "  return Initial_LR*0.9**epoch\n",
        "\n",
        "class LrHistory(keras.callbacks.Callback):\n",
        "  def on_epoch_begin(self,epoch,log={}):\n",
        "    print(\"Learning rate: \", K.get_value(model.optimizer.lr))"
      ],
      "execution_count": 15,
      "outputs": [
        {
          "output_type": "stream",
          "text": [
            "WARNING:tensorflow:From /usr/local/lib/python3.6/dist-packages/keras/optimizers.py:793: The name tf.train.Optimizer is deprecated. Please use tf.compat.v1.train.Optimizer instead.\n",
            "\n",
            "WARNING:tensorflow:From /usr/local/lib/python3.6/dist-packages/keras/backend/tensorflow_backend.py:3576: The name tf.log is deprecated. Please use tf.math.log instead.\n",
            "\n"
          ],
          "name": "stdout"
        }
      ]
    },
    {
      "cell_type": "code",
      "metadata": {
        "id": "tNaKnWcgpTfH",
        "colab_type": "code",
        "outputId": "6670fc2f-be25-42d7-cd42-f9fbab91578f",
        "colab": {
          "base_uri": "https://localhost:8080/",
          "height": 541
        }
      },
      "source": [
        "model.fit(\n",
        "    x_train2, y_train2,\n",
        "    batch_size= Batch_Size,\n",
        "    epochs=Epochs,\n",
        "    callbacks=[keras.callbacks.LearningRateScheduler(lr_scheduler),\n",
        "               LrHistory()\n",
        "              ],\n",
        "          validation_data = (x_test2,y_test2),\n",
        "          shuffle = True,\n",
        "          verbose = 0,\n",
        "          \n",
        ")"
      ],
      "execution_count": 16,
      "outputs": [
        {
          "output_type": "stream",
          "text": [
            "WARNING:tensorflow:From /usr/local/lib/python3.6/dist-packages/tensorflow_core/python/ops/math_grad.py:1424: where (from tensorflow.python.ops.array_ops) is deprecated and will be removed in a future version.\n",
            "Instructions for updating:\n",
            "Use tf.where in 2.0, which has the same broadcast rule as np.where\n",
            "WARNING:tensorflow:From /usr/local/lib/python3.6/dist-packages/keras/backend/tensorflow_backend.py:1033: The name tf.assign_add is deprecated. Please use tf.compat.v1.assign_add instead.\n",
            "\n",
            "WARNING:tensorflow:From /usr/local/lib/python3.6/dist-packages/keras/backend/tensorflow_backend.py:1020: The name tf.assign is deprecated. Please use tf.compat.v1.assign instead.\n",
            "\n",
            "WARNING:tensorflow:From /usr/local/lib/python3.6/dist-packages/keras/backend/tensorflow_backend.py:3005: The name tf.Session is deprecated. Please use tf.compat.v1.Session instead.\n",
            "\n",
            "WARNING:tensorflow:From /usr/local/lib/python3.6/dist-packages/keras/backend/tensorflow_backend.py:190: The name tf.get_default_session is deprecated. Please use tf.compat.v1.get_default_session instead.\n",
            "\n",
            "WARNING:tensorflow:From /usr/local/lib/python3.6/dist-packages/keras/backend/tensorflow_backend.py:197: The name tf.ConfigProto is deprecated. Please use tf.compat.v1.ConfigProto instead.\n",
            "\n",
            "WARNING:tensorflow:From /usr/local/lib/python3.6/dist-packages/keras/backend/tensorflow_backend.py:207: The name tf.global_variables is deprecated. Please use tf.compat.v1.global_variables instead.\n",
            "\n",
            "WARNING:tensorflow:From /usr/local/lib/python3.6/dist-packages/keras/backend/tensorflow_backend.py:216: The name tf.is_variable_initialized is deprecated. Please use tf.compat.v1.is_variable_initialized instead.\n",
            "\n",
            "WARNING:tensorflow:From /usr/local/lib/python3.6/dist-packages/keras/backend/tensorflow_backend.py:223: The name tf.variables_initializer is deprecated. Please use tf.compat.v1.variables_initializer instead.\n",
            "\n",
            "Learning rate:  0.005\n",
            "Learning rate:  0.0045\n",
            "Learning rate:  0.00405\n",
            "Learning rate:  0.003645\n",
            "Learning rate:  0.0032805\n",
            "Learning rate:  0.00295245\n",
            "Learning rate:  0.002657205\n",
            "Learning rate:  0.0023914846\n",
            "Learning rate:  0.002152336\n",
            "Learning rate:  0.0019371024\n"
          ],
          "name": "stdout"
        },
        {
          "output_type": "execute_result",
          "data": {
            "text/plain": [
              "<keras.callbacks.History at 0x7f49b6e75f60>"
            ]
          },
          "metadata": {
            "tags": []
          },
          "execution_count": 16
        }
      ]
    },
    {
      "cell_type": "code",
      "metadata": {
        "id": "9SXXtFJeqhf4",
        "colab_type": "code",
        "colab": {}
      },
      "source": [
        "model.save_weights('weights.h5')"
      ],
      "execution_count": 0,
      "outputs": []
    },
    {
      "cell_type": "code",
      "metadata": {
        "id": "vJujMB801yGl",
        "colab_type": "code",
        "colab": {}
      },
      "source": [
        "model.load_weights(\"weights.h5\")"
      ],
      "execution_count": 0,
      "outputs": []
    },
    {
      "cell_type": "code",
      "metadata": {
        "id": "WxEb7mUz1_EI",
        "colab_type": "code",
        "colab": {}
      },
      "source": [
        "y_pred_test = model.predict_proba(x_test2)"
      ],
      "execution_count": 0,
      "outputs": []
    },
    {
      "cell_type": "code",
      "metadata": {
        "id": "mlOXoKrQ7BQq",
        "colab_type": "code",
        "outputId": "83065fb2-c1b1-4f6e-8f94-803908d76996",
        "colab": {
          "base_uri": "https://localhost:8080/",
          "height": 235
        }
      },
      "source": [
        "y_pred_test"
      ],
      "execution_count": 20,
      "outputs": [
        {
          "output_type": "execute_result",
          "data": {
            "text/plain": [
              "array([[6.8753380e-08, 5.4137416e-08, 2.4592478e-07, ..., 9.5277759e-09,\n",
              "        7.7723706e-07, 7.8586396e-08],\n",
              "       [1.6351783e-06, 9.3301386e-04, 1.5633304e-12, ..., 2.4165270e-15,\n",
              "        9.9906522e-01, 6.9421645e-08],\n",
              "       [1.6660001e-02, 2.3691116e-01, 1.1664828e-04, ..., 1.7154014e-05,\n",
              "        7.1936244e-01, 2.5626495e-02],\n",
              "       ...,\n",
              "       [2.6840658e-07, 7.2450739e-08, 4.1200843e-02, ..., 9.8577840e-04,\n",
              "        1.6719855e-07, 3.2512989e-07],\n",
              "       [4.4726045e-04, 9.1346830e-01, 2.1060671e-04, ..., 5.6332319e-06,\n",
              "        3.0501444e-05, 2.2853503e-05],\n",
              "       [2.0433898e-12, 1.0031716e-13, 1.2653784e-07, ..., 9.9175370e-01,\n",
              "        5.7486344e-14, 5.5635533e-16]], dtype=float32)"
            ]
          },
          "metadata": {
            "tags": []
          },
          "execution_count": 20
        }
      ]
    },
    {
      "cell_type": "code",
      "metadata": {
        "id": "4ipI5Obe7Hii",
        "colab_type": "code",
        "colab": {}
      },
      "source": [
        "y_pred_test_classes = np.argmax(y_pred_test, axis=1)\n",
        "y_pred_test_max_probas = np.max(y_pred_test,axis=1)"
      ],
      "execution_count": 0,
      "outputs": []
    },
    {
      "cell_type": "code",
      "metadata": {
        "id": "xKArBH6M7Z1j",
        "colab_type": "code",
        "outputId": "8926f7cc-8bbd-4adc-9968-afcf30803b16",
        "colab": {
          "base_uri": "https://localhost:8080/",
          "height": 34
        }
      },
      "source": [
        "y_pred_test_classes"
      ],
      "execution_count": 22,
      "outputs": [
        {
          "output_type": "execute_result",
          "data": {
            "text/plain": [
              "array([3, 8, 8, ..., 5, 1, 7])"
            ]
          },
          "metadata": {
            "tags": []
          },
          "execution_count": 22
        }
      ]
    },
    {
      "cell_type": "code",
      "metadata": {
        "id": "0QQlzjcf7coR",
        "colab_type": "code",
        "outputId": "028c6bbe-580d-4906-dba0-815b1e3176bd",
        "colab": {
          "base_uri": "https://localhost:8080/",
          "height": 50
        }
      },
      "source": [
        "y_pred_test_max_probas"
      ],
      "execution_count": 23,
      "outputs": [
        {
          "output_type": "execute_result",
          "data": {
            "text/plain": [
              "array([0.99563473, 0.9990652 , 0.71936244, ..., 0.953019  , 0.9134683 ,\n",
              "       0.9917537 ], dtype=float32)"
            ]
          },
          "metadata": {
            "tags": []
          },
          "execution_count": 23
        }
      ]
    },
    {
      "cell_type": "code",
      "metadata": {
        "id": "YkW4ex6K7hf7",
        "colab_type": "code",
        "outputId": "07e1123d-f01f-4a2c-b3bf-7dd87cae18b3",
        "colab": {
          "base_uri": "https://localhost:8080/",
          "height": 443
        }
      },
      "source": [
        "from sklearn.metrics import confusion_matrix, accuracy_score\n",
        "plt.figure(figsize=(7,6))\n",
        "plt.title('Confusion matrix', fontsize=16)\n",
        "plt.imshow(confusion_matrix(y_test, y_pred_test_classes))\n",
        "plt.xticks(np.arange(10), cifar10_classes, rotation=45, fontsize=12)\n",
        "plt.yticks(np.arange(10), cifar10_classes, fontsize=12)\n",
        "plt.colorbar()\n",
        "plt.show()\n",
        "print('Test accuracy: ', accuracy_score(y_test, y_pred_test_classes))"
      ],
      "execution_count": 24,
      "outputs": [
        {
          "output_type": "display_data",
          "data": {
            "image/png": "[encoded data removed]",
            "text/plain": [
              "<Figure size 504x432 with 2 Axes>"
            ]
          },
          "metadata": {
            "tags": []
          }
        },
        {
          "output_type": "stream",
          "text": [
            "Test accuracy:  0.7842\n"
          ],
          "name": "stdout"
        }
      ]
    },
    {
      "cell_type": "markdown",
      "metadata": {
        "id": "OhbgmiXw9fxV",
        "colab_type": "text"
      },
      "source": [
        "#inspecting what we have done"
      ]
    },
    {
      "cell_type": "code",
      "metadata": {
        "id": "kZT3NlTC9Kwp",
        "colab_type": "code",
        "outputId": "1e367909-1f19-4800-bf44-7139fc5ab686",
        "colab": {
          "base_uri": "https://localhost:8080/",
          "height": 183
        }
      },
      "source": [
        "cols = 8\n",
        "rows = 2\n",
        "fig = plt.figure(figsize=(2*cols-1,3*rows-1))\n",
        "for i in range(rows):\n",
        "  for j in range(rows):\n",
        "    random_index = np.random.randint(0, len(y_test))\n",
        "    ax = fig.add_subplot(rows, cols, i*rows +j+1)\n",
        "    ax.grid('off')\n",
        "    ax.imshow(x_test[random_index,:])\n",
        "    pred_label = cifar10_classes[y_pred_test_classes[random_index]]\n",
        "    pred_proba = y_pred_test_max_probas[random_index]\n",
        "    true_label = cifar10_classes[y_test[random_index,0]]\n",
        "    ax.set_title(\"pred: {}\\nscore: {:.3}\\ntrue: {}\".format(pred_label,pred_proba, true_label))\n",
        "    plt.show()"
      ],
      "execution_count": 25,
      "outputs": [
        {
          "output_type": "display_data",
          "data": {
            "image/png": "[encoded data removed]",
            "text/plain": [
              "<Figure size 1080x360 with 1 Axes>"
            ]
          },
          "metadata": {
            "tags": []
          }
        }
      ]
    },
    {
      "cell_type": "code",
      "metadata": {
        "id": "Q6McWNkYDJxp",
        "colab_type": "code",
        "colab": {}
      },
      "source": [
        ""
      ],
      "execution_count": 0,
      "outputs": []
    }
  ]
}